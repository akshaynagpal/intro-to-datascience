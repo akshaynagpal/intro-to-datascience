{
 "cells": [
  {
   "cell_type": "markdown",
   "metadata": {},
   "source": [
    "# Unsupervised learning with k-means clustering\n",
    "\n",
    "intro"
   ]
  },
  {
   "cell_type": "markdown",
   "metadata": {},
   "source": [
    "# 0. Setup"
   ]
  },
  {
   "cell_type": "code",
   "execution_count": 27,
   "metadata": {
    "collapsed": true
   },
   "outputs": [],
   "source": [
    "import pandas as pd\n",
    "import numpy as np\n",
    "%matplotlib inline\n",
    "import matplotlib.pyplot as plt\n",
    "\n",
    "from sklearn.preprocessing import normalize\n",
    "from sklearn.cluster import KMeans"
   ]
  },
  {
   "cell_type": "markdown",
   "metadata": {},
   "source": [
    "# 1. What is unsupervised learning?\n",
    "\n",
    "### *Insert text - see https://github.com/adicu/AccessibleML/blob/master/4.%20K-means%20clustering%20and%20unsupervised%20learning.ipynb *"
   ]
  },
  {
   "cell_type": "markdown",
   "metadata": {},
   "source": [
    "# 2. Clustering\n",
    "\n",
    "etc. etc"
   ]
  },
  {
   "cell_type": "markdown",
   "metadata": {},
   "source": [
    "# 3. K-means clustering"
   ]
  },
  {
   "cell_type": "markdown",
   "metadata": {},
   "source": [
    "# 4. K-means clustering example"
   ]
  },
  {
   "cell_type": "markdown",
   "metadata": {},
   "source": [
    "The following example uses socioeconomic data, by US county, from the USDA's Food Environment Atlas.  The data and documentation are available at https://www.ers.usda.gov/data-products/food-environment-atlas/data-access-and-documentation-downloads/.\n",
    "\n",
    "*Note there is cool data in the other sheets, and this one was the easiest to work with*"
   ]
  },
  {
   "cell_type": "code",
   "execution_count": 2,
   "metadata": {
    "collapsed": true
   },
   "outputs": [],
   "source": [
    "socioeconomic_data = pd.read_excel('food_environment_atlas_2015.xls', sheetname = 'SOCIOECONOMIC', \n",
    "                                   na_values = '<Null>')"
   ]
  },
  {
   "cell_type": "code",
   "execution_count": 3,
   "metadata": {
    "collapsed": false
   },
   "outputs": [
    {
     "data": {
      "text/html": [
       "<div>\n",
       "<table border=\"1\" class=\"dataframe\">\n",
       "  <thead>\n",
       "    <tr style=\"text-align: right;\">\n",
       "      <th></th>\n",
       "      <th>FIPS</th>\n",
       "      <th>State</th>\n",
       "      <th>County</th>\n",
       "      <th>PCT_NHWHITE10</th>\n",
       "      <th>PCT_NHBLACK10</th>\n",
       "      <th>PCT_HISP10</th>\n",
       "      <th>PCT_NHASIAN10</th>\n",
       "      <th>PCT_NHNA10</th>\n",
       "      <th>PCT_NHPI10</th>\n",
       "      <th>PCT_65OLDER10</th>\n",
       "      <th>PCT_18YOUNGER10</th>\n",
       "      <th>MEDHHINC10</th>\n",
       "      <th>POVRATE10</th>\n",
       "      <th>PERPOV10</th>\n",
       "      <th>CHILDPOVRATE10</th>\n",
       "      <th>PERCHLDPOV10</th>\n",
       "      <th>METRO13</th>\n",
       "      <th>POPLOSS00</th>\n",
       "    </tr>\n",
       "  </thead>\n",
       "  <tbody>\n",
       "    <tr>\n",
       "      <th>0</th>\n",
       "      <td>1001</td>\n",
       "      <td>AL</td>\n",
       "      <td>Autauga</td>\n",
       "      <td>77.246156</td>\n",
       "      <td>17.582599</td>\n",
       "      <td>2.400542</td>\n",
       "      <td>0.855766</td>\n",
       "      <td>0.397647</td>\n",
       "      <td>0.040314</td>\n",
       "      <td>11.995382</td>\n",
       "      <td>26.777959</td>\n",
       "      <td>53049.0</td>\n",
       "      <td>11.9</td>\n",
       "      <td>0</td>\n",
       "      <td>17.5</td>\n",
       "      <td>0</td>\n",
       "      <td>1</td>\n",
       "      <td>0.0</td>\n",
       "    </tr>\n",
       "    <tr>\n",
       "      <th>1</th>\n",
       "      <td>1003</td>\n",
       "      <td>AL</td>\n",
       "      <td>Baldwin</td>\n",
       "      <td>83.504787</td>\n",
       "      <td>9.308425</td>\n",
       "      <td>4.384824</td>\n",
       "      <td>0.735193</td>\n",
       "      <td>0.628755</td>\n",
       "      <td>0.043343</td>\n",
       "      <td>16.771185</td>\n",
       "      <td>22.987408</td>\n",
       "      <td>47618.0</td>\n",
       "      <td>13.3</td>\n",
       "      <td>0</td>\n",
       "      <td>20.2</td>\n",
       "      <td>0</td>\n",
       "      <td>1</td>\n",
       "      <td>0.0</td>\n",
       "    </tr>\n",
       "    <tr>\n",
       "      <th>2</th>\n",
       "      <td>1005</td>\n",
       "      <td>AL</td>\n",
       "      <td>Barbour</td>\n",
       "      <td>46.753105</td>\n",
       "      <td>46.691190</td>\n",
       "      <td>5.051535</td>\n",
       "      <td>0.389700</td>\n",
       "      <td>0.218524</td>\n",
       "      <td>0.087409</td>\n",
       "      <td>14.236807</td>\n",
       "      <td>21.906982</td>\n",
       "      <td>33074.0</td>\n",
       "      <td>25.3</td>\n",
       "      <td>1</td>\n",
       "      <td>36.2</td>\n",
       "      <td>1</td>\n",
       "      <td>0</td>\n",
       "      <td>0.0</td>\n",
       "    </tr>\n",
       "  </tbody>\n",
       "</table>\n",
       "</div>"
      ],
      "text/plain": [
       "   FIPS State   County  PCT_NHWHITE10  PCT_NHBLACK10  PCT_HISP10  \\\n",
       "0  1001    AL  Autauga      77.246156      17.582599    2.400542   \n",
       "1  1003    AL  Baldwin      83.504787       9.308425    4.384824   \n",
       "2  1005    AL  Barbour      46.753105      46.691190    5.051535   \n",
       "\n",
       "   PCT_NHASIAN10  PCT_NHNA10  PCT_NHPI10  PCT_65OLDER10  PCT_18YOUNGER10  \\\n",
       "0       0.855766    0.397647    0.040314      11.995382        26.777959   \n",
       "1       0.735193    0.628755    0.043343      16.771185        22.987408   \n",
       "2       0.389700    0.218524    0.087409      14.236807        21.906982   \n",
       "\n",
       "   MEDHHINC10  POVRATE10  PERPOV10  CHILDPOVRATE10  PERCHLDPOV10  METRO13  \\\n",
       "0     53049.0       11.9         0            17.5             0        1   \n",
       "1     47618.0       13.3         0            20.2             0        1   \n",
       "2     33074.0       25.3         1            36.2             1        0   \n",
       "\n",
       "   POPLOSS00  \n",
       "0        0.0  \n",
       "1        0.0  \n",
       "2        0.0  "
      ]
     },
     "execution_count": 3,
     "metadata": {},
     "output_type": "execute_result"
    }
   ],
   "source": [
    "socioeconomic_data.head(3)"
   ]
  },
  {
   "cell_type": "code",
   "execution_count": 4,
   "metadata": {
    "collapsed": true
   },
   "outputs": [],
   "source": [
    "# There are a few rows with NaN values, so let's remove those\n",
    "socioeconomic_data = socioeconomic_data.dropna()"
   ]
  },
  {
   "cell_type": "markdown",
   "metadata": {},
   "source": [
    "K-means clustering uses a distance metric to define how close points are to each other, so to make things easy, we'll work with the numeric, continuous variables in the dataset"
   ]
  },
  {
   "cell_type": "code",
   "execution_count": 5,
   "metadata": {
    "collapsed": false
   },
   "outputs": [],
   "source": [
    "# Cluster on numeric data columns\n",
    "num_data = socioeconomic_data.drop(['FIPS', 'State', 'County', 'PERPOV10', 'PERCHLDPOV10', 'METRO13', 'POPLOSS00'], \n",
    "                                   axis = 1)"
   ]
  },
  {
   "cell_type": "code",
   "execution_count": 6,
   "metadata": {
    "collapsed": false
   },
   "outputs": [
    {
     "data": {
      "text/html": [
       "<div>\n",
       "<table border=\"1\" class=\"dataframe\">\n",
       "  <thead>\n",
       "    <tr style=\"text-align: right;\">\n",
       "      <th></th>\n",
       "      <th>PCT_NHWHITE10</th>\n",
       "      <th>PCT_NHBLACK10</th>\n",
       "      <th>PCT_HISP10</th>\n",
       "      <th>PCT_NHASIAN10</th>\n",
       "      <th>PCT_NHNA10</th>\n",
       "      <th>PCT_NHPI10</th>\n",
       "      <th>PCT_65OLDER10</th>\n",
       "      <th>PCT_18YOUNGER10</th>\n",
       "      <th>MEDHHINC10</th>\n",
       "      <th>POVRATE10</th>\n",
       "      <th>CHILDPOVRATE10</th>\n",
       "    </tr>\n",
       "  </thead>\n",
       "  <tbody>\n",
       "    <tr>\n",
       "      <th>count</th>\n",
       "      <td>3136.000000</td>\n",
       "      <td>3136.000000</td>\n",
       "      <td>3136.000000</td>\n",
       "      <td>3136.000000</td>\n",
       "      <td>3136.000000</td>\n",
       "      <td>3136.000000</td>\n",
       "      <td>3136.000000</td>\n",
       "      <td>3136.000000</td>\n",
       "      <td>3136.000000</td>\n",
       "      <td>3136.000000</td>\n",
       "      <td>3136.000000</td>\n",
       "    </tr>\n",
       "    <tr>\n",
       "      <th>mean</th>\n",
       "      <td>78.331377</td>\n",
       "      <td>8.767474</td>\n",
       "      <td>8.294117</td>\n",
       "      <td>1.133170</td>\n",
       "      <td>1.839134</td>\n",
       "      <td>0.064786</td>\n",
       "      <td>15.886565</td>\n",
       "      <td>23.429350</td>\n",
       "      <td>43129.046875</td>\n",
       "      <td>16.770791</td>\n",
       "      <td>24.184598</td>\n",
       "    </tr>\n",
       "    <tr>\n",
       "      <th>std</th>\n",
       "      <td>19.871956</td>\n",
       "      <td>14.432009</td>\n",
       "      <td>13.202869</td>\n",
       "      <td>2.467994</td>\n",
       "      <td>7.547919</td>\n",
       "      <td>0.368701</td>\n",
       "      <td>4.183037</td>\n",
       "      <td>3.348842</td>\n",
       "      <td>10731.296436</td>\n",
       "      <td>6.240291</td>\n",
       "      <td>9.056515</td>\n",
       "    </tr>\n",
       "    <tr>\n",
       "      <th>min</th>\n",
       "      <td>2.667918</td>\n",
       "      <td>0.000000</td>\n",
       "      <td>0.000000</td>\n",
       "      <td>0.000000</td>\n",
       "      <td>0.000000</td>\n",
       "      <td>0.000000</td>\n",
       "      <td>3.470599</td>\n",
       "      <td>9.111539</td>\n",
       "      <td>20577.000000</td>\n",
       "      <td>3.100000</td>\n",
       "      <td>2.700000</td>\n",
       "    </tr>\n",
       "    <tr>\n",
       "      <th>25%</th>\n",
       "      <td>66.994751</td>\n",
       "      <td>0.402592</td>\n",
       "      <td>1.593918</td>\n",
       "      <td>0.269226</td>\n",
       "      <td>0.194928</td>\n",
       "      <td>0.009950</td>\n",
       "      <td>13.126076</td>\n",
       "      <td>21.433091</td>\n",
       "      <td>36125.000000</td>\n",
       "      <td>12.300000</td>\n",
       "      <td>17.400000</td>\n",
       "    </tr>\n",
       "    <tr>\n",
       "      <th>50%</th>\n",
       "      <td>85.777693</td>\n",
       "      <td>1.912475</td>\n",
       "      <td>3.284225</td>\n",
       "      <td>0.463080</td>\n",
       "      <td>0.304808</td>\n",
       "      <td>0.022820</td>\n",
       "      <td>15.569146</td>\n",
       "      <td>23.328966</td>\n",
       "      <td>41246.000000</td>\n",
       "      <td>15.900000</td>\n",
       "      <td>23.500000</td>\n",
       "    </tr>\n",
       "    <tr>\n",
       "      <th>75%</th>\n",
       "      <td>94.194460</td>\n",
       "      <td>9.789883</td>\n",
       "      <td>8.234666</td>\n",
       "      <td>0.979332</td>\n",
       "      <td>0.624888</td>\n",
       "      <td>0.046389</td>\n",
       "      <td>18.206867</td>\n",
       "      <td>25.102185</td>\n",
       "      <td>47702.750000</td>\n",
       "      <td>20.225000</td>\n",
       "      <td>29.900000</td>\n",
       "    </tr>\n",
       "    <tr>\n",
       "      <th>max</th>\n",
       "      <td>99.163180</td>\n",
       "      <td>85.438778</td>\n",
       "      <td>95.744774</td>\n",
       "      <td>43.014686</td>\n",
       "      <td>94.945703</td>\n",
       "      <td>11.330297</td>\n",
       "      <td>43.384714</td>\n",
       "      <td>41.573938</td>\n",
       "      <td>119075.000000</td>\n",
       "      <td>50.100000</td>\n",
       "      <td>61.100000</td>\n",
       "    </tr>\n",
       "  </tbody>\n",
       "</table>\n",
       "</div>"
      ],
      "text/plain": [
       "       PCT_NHWHITE10  PCT_NHBLACK10   PCT_HISP10  PCT_NHASIAN10   PCT_NHNA10  \\\n",
       "count    3136.000000    3136.000000  3136.000000    3136.000000  3136.000000   \n",
       "mean       78.331377       8.767474     8.294117       1.133170     1.839134   \n",
       "std        19.871956      14.432009    13.202869       2.467994     7.547919   \n",
       "min         2.667918       0.000000     0.000000       0.000000     0.000000   \n",
       "25%        66.994751       0.402592     1.593918       0.269226     0.194928   \n",
       "50%        85.777693       1.912475     3.284225       0.463080     0.304808   \n",
       "75%        94.194460       9.789883     8.234666       0.979332     0.624888   \n",
       "max        99.163180      85.438778    95.744774      43.014686    94.945703   \n",
       "\n",
       "        PCT_NHPI10  PCT_65OLDER10  PCT_18YOUNGER10     MEDHHINC10  \\\n",
       "count  3136.000000    3136.000000      3136.000000    3136.000000   \n",
       "mean      0.064786      15.886565        23.429350   43129.046875   \n",
       "std       0.368701       4.183037         3.348842   10731.296436   \n",
       "min       0.000000       3.470599         9.111539   20577.000000   \n",
       "25%       0.009950      13.126076        21.433091   36125.000000   \n",
       "50%       0.022820      15.569146        23.328966   41246.000000   \n",
       "75%       0.046389      18.206867        25.102185   47702.750000   \n",
       "max      11.330297      43.384714        41.573938  119075.000000   \n",
       "\n",
       "         POVRATE10  CHILDPOVRATE10  \n",
       "count  3136.000000     3136.000000  \n",
       "mean     16.770791       24.184598  \n",
       "std       6.240291        9.056515  \n",
       "min       3.100000        2.700000  \n",
       "25%      12.300000       17.400000  \n",
       "50%      15.900000       23.500000  \n",
       "75%      20.225000       29.900000  \n",
       "max      50.100000       61.100000  "
      ]
     },
     "execution_count": 6,
     "metadata": {},
     "output_type": "execute_result"
    }
   ],
   "source": [
    "num_data.describe()"
   ]
  },
  {
   "cell_type": "markdown",
   "metadata": {},
   "source": [
    "### Preprocess data\n",
    "\n",
    "Let's standardize the data because K-means treats the distances of every dimension equally, and we want all variables to be weighted equally."
   ]
  },
  {
   "cell_type": "code",
   "execution_count": 9,
   "metadata": {
    "collapsed": false
   },
   "outputs": [],
   "source": [
    "norm_data = normalize(num_data)"
   ]
  },
  {
   "cell_type": "markdown",
   "metadata": {},
   "source": [
    "Well that was fast"
   ]
  },
  {
   "cell_type": "markdown",
   "metadata": {},
   "source": [
    "### Modeling time\n",
    "\n",
    "K-means clustering involves these general steps:\n",
    "\n",
    "1. Decide on the number of clusters you want.  (There are more scientific ways to pick the \"k\" of k-means, but we'll pick an arbitrary number for now.  Generally, you want to go for a number that's manageable to the average human brain.)\n",
    "2. Apply the clustering algorithm on your data.\n",
    "3. Examine the resulting clusters and try to interpret them.  As needed, change k so that the clusters make more sense."
   ]
  },
  {
   "cell_type": "markdown",
   "metadata": {},
   "source": [
    "#### Get clusters"
   ]
  },
  {
   "cell_type": "code",
   "execution_count": 28,
   "metadata": {
    "collapsed": false
   },
   "outputs": [],
   "source": [
    "# Initialize the algorithm and specify the number of clusters you want\n",
    "kmeans = KMeans(n_clusters = 5, random_state = 0)"
   ]
  },
  {
   "cell_type": "code",
   "execution_count": 29,
   "metadata": {
    "collapsed": false
   },
   "outputs": [
    {
     "data": {
      "text/plain": [
       "KMeans(algorithm='auto', copy_x=True, init='k-means++', max_iter=300,\n",
       "    n_clusters=5, n_init=10, n_jobs=1, precompute_distances='auto',\n",
       "    random_state=0, tol=0.0001, verbose=0)"
      ]
     },
     "execution_count": 29,
     "metadata": {},
     "output_type": "execute_result"
    }
   ],
   "source": [
    "# Run K-means on your data\n",
    "kmeans.fit(norm_data)"
   ]
  },
  {
   "cell_type": "markdown",
   "metadata": {},
   "source": [
    "#### Interpret the clusters"
   ]
  },
  {
   "cell_type": "code",
   "execution_count": 30,
   "metadata": {
    "collapsed": false
   },
   "outputs": [
    {
     "data": {
      "text/plain": [
       "array([[  1.28411437e-03,   1.99576913e-04,   2.23081052e-04,\n",
       "          5.07854310e-05,   4.27466654e-05,   2.92442566e-06,\n",
       "          2.34331520e-04,   4.52277336e-04,   9.99998765e-01,\n",
       "          2.40883748e-04,   3.34731040e-04],\n",
       "       [  2.71345773e-03,   7.42570159e-05,   8.18489656e-05,\n",
       "          9.85448047e-06,   2.58237017e-05,   7.80746122e-07,\n",
       "          5.48204838e-04,   6.46351151e-04,   9.99995219e-01,\n",
       "          6.07346123e-04,   9.10112545e-04],\n",
       "       [  1.53387778e-03,   1.39462523e-03,   1.11452893e-04,\n",
       "          1.77818843e-05,   1.70751495e-05,   7.70910691e-07,\n",
       "          4.55769909e-04,   7.37389432e-04,   9.99996048e-01,\n",
       "          8.25207955e-04,   1.18132898e-03],\n",
       "       [  2.04581818e-03,   8.88974268e-05,   1.15362844e-04,\n",
       "          1.56179516e-05,   3.41990600e-05,   1.05863107e-06,\n",
       "          3.98833085e-04,   5.33331455e-04,   9.99997413e-01,\n",
       "          3.46176670e-04,   5.01339797e-04],\n",
       "       [  1.03643232e-03,   7.44243639e-05,   1.33280859e-03,\n",
       "          2.29494867e-05,   3.28689804e-04,   1.08080011e-06,\n",
       "          3.82260327e-04,   7.85457651e-04,   9.99996484e-01,\n",
       "          7.05553819e-04,   9.80194142e-04]])"
      ]
     },
     "execution_count": 30,
     "metadata": {},
     "output_type": "execute_result"
    }
   ],
   "source": [
    "\"\"\"These numbers don't really mean anything though, because they're normalized\"\"\"\n",
    "kmeans.cluster_centers_"
   ]
  },
  {
   "cell_type": "code",
   "execution_count": 31,
   "metadata": {
    "collapsed": false
   },
   "outputs": [],
   "source": [
    "# Add the cluster assignements to the original dataset, so that we can look inside each cluster\n",
    "num_data['cluster'] = kmeans.labels_"
   ]
  },
  {
   "cell_type": "code",
   "execution_count": 32,
   "metadata": {
    "collapsed": false
   },
   "outputs": [
    {
     "data": {
      "text/html": [
       "<div>\n",
       "<table border=\"1\" class=\"dataframe\">\n",
       "  <thead>\n",
       "    <tr style=\"text-align: right;\">\n",
       "      <th></th>\n",
       "      <th>PCT_NHWHITE10</th>\n",
       "      <th>PCT_NHBLACK10</th>\n",
       "      <th>PCT_HISP10</th>\n",
       "      <th>PCT_NHASIAN10</th>\n",
       "      <th>PCT_NHNA10</th>\n",
       "      <th>PCT_NHPI10</th>\n",
       "      <th>PCT_65OLDER10</th>\n",
       "      <th>PCT_18YOUNGER10</th>\n",
       "      <th>MEDHHINC10</th>\n",
       "      <th>POVRATE10</th>\n",
       "      <th>CHILDPOVRATE10</th>\n",
       "      <th>cluster</th>\n",
       "    </tr>\n",
       "  </thead>\n",
       "  <tbody>\n",
       "    <tr>\n",
       "      <th>0</th>\n",
       "      <td>77.246156</td>\n",
       "      <td>17.582599</td>\n",
       "      <td>2.400542</td>\n",
       "      <td>0.855766</td>\n",
       "      <td>0.397647</td>\n",
       "      <td>0.040314</td>\n",
       "      <td>11.995382</td>\n",
       "      <td>26.777959</td>\n",
       "      <td>53049.0</td>\n",
       "      <td>11.9</td>\n",
       "      <td>17.5</td>\n",
       "      <td>0</td>\n",
       "    </tr>\n",
       "    <tr>\n",
       "      <th>1</th>\n",
       "      <td>83.504787</td>\n",
       "      <td>9.308425</td>\n",
       "      <td>4.384824</td>\n",
       "      <td>0.735193</td>\n",
       "      <td>0.628755</td>\n",
       "      <td>0.043343</td>\n",
       "      <td>16.771185</td>\n",
       "      <td>22.987408</td>\n",
       "      <td>47618.0</td>\n",
       "      <td>13.3</td>\n",
       "      <td>20.2</td>\n",
       "      <td>3</td>\n",
       "    </tr>\n",
       "    <tr>\n",
       "      <th>2</th>\n",
       "      <td>46.753105</td>\n",
       "      <td>46.691190</td>\n",
       "      <td>5.051535</td>\n",
       "      <td>0.389700</td>\n",
       "      <td>0.218524</td>\n",
       "      <td>0.087409</td>\n",
       "      <td>14.236807</td>\n",
       "      <td>21.906982</td>\n",
       "      <td>33074.0</td>\n",
       "      <td>25.3</td>\n",
       "      <td>36.2</td>\n",
       "      <td>2</td>\n",
       "    </tr>\n",
       "    <tr>\n",
       "      <th>3</th>\n",
       "      <td>75.020729</td>\n",
       "      <td>21.924504</td>\n",
       "      <td>1.771765</td>\n",
       "      <td>0.096007</td>\n",
       "      <td>0.279293</td>\n",
       "      <td>0.030548</td>\n",
       "      <td>12.681650</td>\n",
       "      <td>22.696923</td>\n",
       "      <td>35472.0</td>\n",
       "      <td>20.9</td>\n",
       "      <td>28.6</td>\n",
       "      <td>3</td>\n",
       "    </tr>\n",
       "    <tr>\n",
       "      <th>4</th>\n",
       "      <td>88.887338</td>\n",
       "      <td>1.263040</td>\n",
       "      <td>8.070200</td>\n",
       "      <td>0.200621</td>\n",
       "      <td>0.497191</td>\n",
       "      <td>0.031402</td>\n",
       "      <td>14.722096</td>\n",
       "      <td>24.608353</td>\n",
       "      <td>42906.0</td>\n",
       "      <td>16.5</td>\n",
       "      <td>24.1</td>\n",
       "      <td>3</td>\n",
       "    </tr>\n",
       "  </tbody>\n",
       "</table>\n",
       "</div>"
      ],
      "text/plain": [
       "   PCT_NHWHITE10  PCT_NHBLACK10  PCT_HISP10  PCT_NHASIAN10  PCT_NHNA10  \\\n",
       "0      77.246156      17.582599    2.400542       0.855766    0.397647   \n",
       "1      83.504787       9.308425    4.384824       0.735193    0.628755   \n",
       "2      46.753105      46.691190    5.051535       0.389700    0.218524   \n",
       "3      75.020729      21.924504    1.771765       0.096007    0.279293   \n",
       "4      88.887338       1.263040    8.070200       0.200621    0.497191   \n",
       "\n",
       "   PCT_NHPI10  PCT_65OLDER10  PCT_18YOUNGER10  MEDHHINC10  POVRATE10  \\\n",
       "0    0.040314      11.995382        26.777959     53049.0       11.9   \n",
       "1    0.043343      16.771185        22.987408     47618.0       13.3   \n",
       "2    0.087409      14.236807        21.906982     33074.0       25.3   \n",
       "3    0.030548      12.681650        22.696923     35472.0       20.9   \n",
       "4    0.031402      14.722096        24.608353     42906.0       16.5   \n",
       "\n",
       "   CHILDPOVRATE10  cluster  \n",
       "0            17.5        0  \n",
       "1            20.2        3  \n",
       "2            36.2        2  \n",
       "3            28.6        3  \n",
       "4            24.1        3  "
      ]
     },
     "execution_count": 32,
     "metadata": {},
     "output_type": "execute_result"
    }
   ],
   "source": [
    "num_data.head()"
   ]
  },
  {
   "cell_type": "markdown",
   "metadata": {},
   "source": [
    "When we tell the algorithm to give us 5 clusters, what does the algorithm see that separates our data into 5 groups?"
   ]
  },
  {
   "cell_type": "code",
   "execution_count": 33,
   "metadata": {
    "collapsed": false
   },
   "outputs": [
    {
     "data": {
      "image/png": "[encoded data removed]",
      "text/plain": [
       "<matplotlib.figure.Figure at 0x1128a0f10>"
      ]
     },
     "metadata": {},
     "output_type": "display_data"
    },
    {
     "data": {
      "image/png": "[encoded data removed]",
      "text/plain": [
       "<matplotlib.figure.Figure at 0x112951e50>"
      ]
     },
     "metadata": {},
     "output_type": "display_data"
    },
    {
     "data": {
      "image/png": "[encoded data removed]",
      "text/plain": [
       "<matplotlib.figure.Figure at 0x112951d50>"
      ]
     },
     "metadata": {},
     "output_type": "display_data"
    },
    {
     "data": {
      "image/png": "[encoded data removed]",
      "text/plain": [
       "<matplotlib.figure.Figure at 0x10cf10d90>"
      ]
     },
     "metadata": {},
     "output_type": "display_data"
    },
    {
     "data": {
      "image/png": "[encoded data removed]",
      "text/plain": [
       "<matplotlib.figure.Figure at 0x10ce68190>"
      ]
     },
     "metadata": {},
     "output_type": "display_data"
    },
    {
     "data": {
      "image/png": "[encoded data removed]",
      "text/plain": [
       "<matplotlib.figure.Figure at 0x10ce685d0>"
      ]
     },
     "metadata": {},
     "output_type": "display_data"
    },
    {
     "data": {
      "image/png": "[encoded data removed]",
      "text/plain": [
       "<matplotlib.figure.Figure at 0x10cf10f90>"
      ]
     },
     "metadata": {},
     "output_type": "display_data"
    },
    {
     "data": {
      "image/png": "[encoded data removed]",
      "text/plain": [
       "<matplotlib.figure.Figure at 0x1046d7210>"
      ]
     },
     "metadata": {},
     "output_type": "display_data"
    },
    {
     "data": {
      "image/png": "[encoded data removed]",
      "text/plain": [
       "<matplotlib.figure.Figure at 0x10d1ff150>"
      ]
     },
     "metadata": {},
     "output_type": "display_data"
    },
    {
     "data": {
      "image/png": "[encoded data removed]",
      "text/plain": [
       "<matplotlib.figure.Figure at 0x10d42a150>"
      ]
     },
     "metadata": {},
     "output_type": "display_data"
    },
    {
     "data": {
      "image/png": "[encoded data removed]",
      "text/plain": [
       "<matplotlib.figure.Figure at 0x10d536d50>"
      ]
     },
     "metadata": {},
     "output_type": "display_data"
    }
   ],
   "source": [
    "# Let's plot side-by-side boxplots of each feature by cluster number\n",
    "for col in num_data.columns:\n",
    "    if col != 'cluster':\n",
    "        num_data.boxplot(column = col, by = 'cluster')"
   ]
  },
  {
   "cell_type": "code",
   "execution_count": 35,
   "metadata": {
    "collapsed": false
   },
   "outputs": [],
   "source": [
    "### How else to interpret the clusters?"
   ]
  },
  {
   "cell_type": "markdown",
   "metadata": {
    "collapsed": true
   },
   "source": [
    "### Next steps: Different ways to play around with clustering\n",
    "\n",
    "- Try with a different number of clusters\n",
    "- Cluster on a different set of features\n",
    "- Try a different clustering algorithm (hierarchical, DBSCAN, ... http://scikit-learn.org/stable/modules/clustering.html)"
   ]
  },
  {
   "cell_type": "markdown",
   "metadata": {},
   "source": [
    "## Other resources\n",
    "\n",
    "etc."
   ]
  },
  {
   "cell_type": "code",
   "execution_count": null,
   "metadata": {
    "collapsed": true
   },
   "outputs": [],
   "source": []
  }
 ],
 "metadata": {
  "kernelspec": {
   "display_name": "Python 2",
   "language": "python",
   "name": "python2"
  },
  "language_info": {
   "codemirror_mode": {
    "name": "ipython",
    "version": 2
   },
   "file_extension": ".py",
   "mimetype": "text/x-python",
   "name": "python",
   "nbconvert_exporter": "python",
   "pygments_lexer": "ipython2",
   "version": "2.7.12"
  }
 },
 "nbformat": 4,
 "nbformat_minor": 0
}
